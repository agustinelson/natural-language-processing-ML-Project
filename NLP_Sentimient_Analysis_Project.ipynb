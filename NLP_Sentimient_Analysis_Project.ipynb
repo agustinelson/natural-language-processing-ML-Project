{
  "nbformat": 4,
  "nbformat_minor": 0,
  "metadata": {
    "colab": {
      "provenance": [],
      "authorship_tag": "ABX9TyOsCGe4fZdAQ1O7mn0jcU+a",
      "include_colab_link": true
    },
    "kernelspec": {
      "name": "python3",
      "display_name": "Python 3"
    },
    "language_info": {
      "name": "python"
    }
  },
  "cells": [
    {
      "cell_type": "markdown",
      "metadata": {
        "id": "view-in-github",
        "colab_type": "text"
      },
      "source": [
        "<a href=\"https://colab.research.google.com/github/agustinelson/natural-language-processing-ML-Project/blob/main/NLP_Sentimient_Analysis_Project.ipynb\" target=\"_parent\"><img src=\"https://colab.research.google.com/assets/colab-badge.svg\" alt=\"Open In Colab\"/></a>"
      ]
    },
    {
      "cell_type": "markdown",
      "source": [
        "# ANÁLISIS DE SENTIMIENTOS"
      ],
      "metadata": {
        "id": "KaQa0I73uA6y"
      }
    },
    {
      "cell_type": "markdown",
      "source": [
        "## Resumen"
      ],
      "metadata": {
        "id": "Osdfk3WCuTOm"
      }
    },
    {
      "cell_type": "markdown",
      "source": [
        "El objetivo de este proyecto es proponer y evaluar un modelo de análisis de sentimientos basado en redes neuronales recurrentes (RNN) que implementa la arquitectura ResNET utilizando la biblioteca TensorFlow. La combinación de estas técnicas tiene como objetivo mejorar el rendimiento del modelo en la clasificación de sentimientos en comparación con enfoques tradicionales.\n",
        "\n",
        "**Nota**\n",
        "\n",
        "Descargar el dataset de aquí:\n",
        "https://github.com/agustinelson/natural-language-processing-ML-Project/tree/main/data\n"
      ],
      "metadata": {
        "id": "6kmSNN-muV22"
      }
    },
    {
      "cell_type": "markdown",
      "source": [
        "**Recopilación de datos**\n",
        "\n",
        "Se recopilará un conjunto de datos etiquetados que contenga ejemplos de texto con sus respectivos sentimientos asociados.\n",
        "\n",
        "https://github.com/agustinelson/natural-language-processing-ML-Project/blob/main/data/train.txt"
      ],
      "metadata": {
        "id": "dbRNROya0h_A"
      }
    },
    {
      "cell_type": "code",
      "source": [
        "import numpy as np\n",
        "import pandas as pd"
      ],
      "metadata": {
        "id": "ADpVgBft1vf3"
      },
      "execution_count": 3,
      "outputs": []
    },
    {
      "cell_type": "code",
      "source": [
        "data_train = pd.read_csv(\"data/train.txt\")\n",
        "data_train"
      ],
      "metadata": {
        "colab": {
          "base_uri": "https://localhost:8080/",
          "height": 423
        },
        "id": "C2paNHyv_NQV",
        "outputId": "e5946dd8-6f0a-4b30-b8bc-20511617ff9d"
      },
      "execution_count": 6,
      "outputs": [
        {
          "output_type": "execute_result",
          "data": {
            "text/plain": [
              "                         i didnt feel humiliated;sadness\n",
              "0      i can go from feeling so hopeless to so damned...\n",
              "1      im grabbing a minute to post i feel greedy wro...\n",
              "2      i am ever feeling nostalgic about the fireplac...\n",
              "3                             i am feeling grouchy;anger\n",
              "4      ive been feeling a little burdened lately wasn...\n",
              "...                                                  ...\n",
              "15994  i just had a very brief time in the beanbag an...\n",
              "15995  i am now turning and i feel pathetic that i am...\n",
              "15996                 i feel strong and good overall;joy\n",
              "15997  i feel like this was such a rude comment and i...\n",
              "15998  i know a lot but i feel so stupid because i ca...\n",
              "\n",
              "[15999 rows x 1 columns]"
            ],
            "text/html": [
              "\n",
              "  <div id=\"df-49b49442-bd6e-4a39-964f-7f57ee3e89a1\">\n",
              "    <div class=\"colab-df-container\">\n",
              "      <div>\n",
              "<style scoped>\n",
              "    .dataframe tbody tr th:only-of-type {\n",
              "        vertical-align: middle;\n",
              "    }\n",
              "\n",
              "    .dataframe tbody tr th {\n",
              "        vertical-align: top;\n",
              "    }\n",
              "\n",
              "    .dataframe thead th {\n",
              "        text-align: right;\n",
              "    }\n",
              "</style>\n",
              "<table border=\"1\" class=\"dataframe\">\n",
              "  <thead>\n",
              "    <tr style=\"text-align: right;\">\n",
              "      <th></th>\n",
              "      <th>i didnt feel humiliated;sadness</th>\n",
              "    </tr>\n",
              "  </thead>\n",
              "  <tbody>\n",
              "    <tr>\n",
              "      <th>0</th>\n",
              "      <td>i can go from feeling so hopeless to so damned...</td>\n",
              "    </tr>\n",
              "    <tr>\n",
              "      <th>1</th>\n",
              "      <td>im grabbing a minute to post i feel greedy wro...</td>\n",
              "    </tr>\n",
              "    <tr>\n",
              "      <th>2</th>\n",
              "      <td>i am ever feeling nostalgic about the fireplac...</td>\n",
              "    </tr>\n",
              "    <tr>\n",
              "      <th>3</th>\n",
              "      <td>i am feeling grouchy;anger</td>\n",
              "    </tr>\n",
              "    <tr>\n",
              "      <th>4</th>\n",
              "      <td>ive been feeling a little burdened lately wasn...</td>\n",
              "    </tr>\n",
              "    <tr>\n",
              "      <th>...</th>\n",
              "      <td>...</td>\n",
              "    </tr>\n",
              "    <tr>\n",
              "      <th>15994</th>\n",
              "      <td>i just had a very brief time in the beanbag an...</td>\n",
              "    </tr>\n",
              "    <tr>\n",
              "      <th>15995</th>\n",
              "      <td>i am now turning and i feel pathetic that i am...</td>\n",
              "    </tr>\n",
              "    <tr>\n",
              "      <th>15996</th>\n",
              "      <td>i feel strong and good overall;joy</td>\n",
              "    </tr>\n",
              "    <tr>\n",
              "      <th>15997</th>\n",
              "      <td>i feel like this was such a rude comment and i...</td>\n",
              "    </tr>\n",
              "    <tr>\n",
              "      <th>15998</th>\n",
              "      <td>i know a lot but i feel so stupid because i ca...</td>\n",
              "    </tr>\n",
              "  </tbody>\n",
              "</table>\n",
              "<p>15999 rows × 1 columns</p>\n",
              "</div>\n",
              "      <button class=\"colab-df-convert\" onclick=\"convertToInteractive('df-49b49442-bd6e-4a39-964f-7f57ee3e89a1')\"\n",
              "              title=\"Convert this dataframe to an interactive table.\"\n",
              "              style=\"display:none;\">\n",
              "        \n",
              "  <svg xmlns=\"http://www.w3.org/2000/svg\" height=\"24px\"viewBox=\"0 0 24 24\"\n",
              "       width=\"24px\">\n",
              "    <path d=\"M0 0h24v24H0V0z\" fill=\"none\"/>\n",
              "    <path d=\"M18.56 5.44l.94 2.06.94-2.06 2.06-.94-2.06-.94-.94-2.06-.94 2.06-2.06.94zm-11 1L8.5 8.5l.94-2.06 2.06-.94-2.06-.94L8.5 2.5l-.94 2.06-2.06.94zm10 10l.94 2.06.94-2.06 2.06-.94-2.06-.94-.94-2.06-.94 2.06-2.06.94z\"/><path d=\"M17.41 7.96l-1.37-1.37c-.4-.4-.92-.59-1.43-.59-.52 0-1.04.2-1.43.59L10.3 9.45l-7.72 7.72c-.78.78-.78 2.05 0 2.83L4 21.41c.39.39.9.59 1.41.59.51 0 1.02-.2 1.41-.59l7.78-7.78 2.81-2.81c.8-.78.8-2.07 0-2.86zM5.41 20L4 18.59l7.72-7.72 1.47 1.35L5.41 20z\"/>\n",
              "  </svg>\n",
              "      </button>\n",
              "      \n",
              "  <style>\n",
              "    .colab-df-container {\n",
              "      display:flex;\n",
              "      flex-wrap:wrap;\n",
              "      gap: 12px;\n",
              "    }\n",
              "\n",
              "    .colab-df-convert {\n",
              "      background-color: #E8F0FE;\n",
              "      border: none;\n",
              "      border-radius: 50%;\n",
              "      cursor: pointer;\n",
              "      display: none;\n",
              "      fill: #1967D2;\n",
              "      height: 32px;\n",
              "      padding: 0 0 0 0;\n",
              "      width: 32px;\n",
              "    }\n",
              "\n",
              "    .colab-df-convert:hover {\n",
              "      background-color: #E2EBFA;\n",
              "      box-shadow: 0px 1px 2px rgba(60, 64, 67, 0.3), 0px 1px 3px 1px rgba(60, 64, 67, 0.15);\n",
              "      fill: #174EA6;\n",
              "    }\n",
              "\n",
              "    [theme=dark] .colab-df-convert {\n",
              "      background-color: #3B4455;\n",
              "      fill: #D2E3FC;\n",
              "    }\n",
              "\n",
              "    [theme=dark] .colab-df-convert:hover {\n",
              "      background-color: #434B5C;\n",
              "      box-shadow: 0px 1px 3px 1px rgba(0, 0, 0, 0.15);\n",
              "      filter: drop-shadow(0px 1px 2px rgba(0, 0, 0, 0.3));\n",
              "      fill: #FFFFFF;\n",
              "    }\n",
              "  </style>\n",
              "\n",
              "      <script>\n",
              "        const buttonEl =\n",
              "          document.querySelector('#df-49b49442-bd6e-4a39-964f-7f57ee3e89a1 button.colab-df-convert');\n",
              "        buttonEl.style.display =\n",
              "          google.colab.kernel.accessAllowed ? 'block' : 'none';\n",
              "\n",
              "        async function convertToInteractive(key) {\n",
              "          const element = document.querySelector('#df-49b49442-bd6e-4a39-964f-7f57ee3e89a1');\n",
              "          const dataTable =\n",
              "            await google.colab.kernel.invokeFunction('convertToInteractive',\n",
              "                                                     [key], {});\n",
              "          if (!dataTable) return;\n",
              "\n",
              "          const docLinkHtml = 'Like what you see? Visit the ' +\n",
              "            '<a target=\"_blank\" href=https://colab.research.google.com/notebooks/data_table.ipynb>data table notebook</a>'\n",
              "            + ' to learn more about interactive tables.';\n",
              "          element.innerHTML = '';\n",
              "          dataTable['output_type'] = 'display_data';\n",
              "          await google.colab.output.renderOutput(dataTable, element);\n",
              "          const docLink = document.createElement('div');\n",
              "          docLink.innerHTML = docLinkHtml;\n",
              "          element.appendChild(docLink);\n",
              "        }\n",
              "      </script>\n",
              "    </div>\n",
              "  </div>\n",
              "  "
            ]
          },
          "metadata": {},
          "execution_count": 6
        }
      ]
    },
    {
      "cell_type": "markdown",
      "source": [
        "**Preprocesamiento de datos**\n",
        "\n",
        "Se recopilará un conjunto de datos etiquetados que contenga ejemplos de texto con sus respectivos sentimientos asociados (positivo, negativo o neutro). Luego, se realizará el preprocesamiento de datos, que incluirá la eliminación de signos de puntuación, la tokenización, la eliminación de palabras irrelevantes y la normalización del texto."
      ],
      "metadata": {
        "id": "j_tluhu0vR_4"
      }
    },
    {
      "cell_type": "markdown",
      "source": [
        "**Representación de características**\n",
        "\n",
        "Los datos preprocesados se convertirán en representaciones numéricas adecuadas para su entrada en el modelo de RNN. Se puede utilizar la técnica de \"Bag of Words\" (BoW) o TF-IDF para convertir los textos en vectores numéricos."
      ],
      "metadata": {
        "id": "Tc3ZBmdlyVum"
      }
    },
    {
      "cell_type": "markdown",
      "source": [
        "\n",
        "**Construcción del modelo de RNN**\n",
        "\n",
        "Se implementará una arquitectura de redes neuronales recurrentes utilizando la biblioteca TensorFlow. Esto puede incluir capas de embedding para convertir las representaciones numéricas de las palabras en vectores densos, seguidas de capas LSTM (Long Short-Term Memory) para capturar la información de contexto a largo plazo. La arquitectura específica de la RNN, incluyendo el número de capas, el tamaño de los vectores de embedding y las unidades LSTM, se determinará experimentalmente o mediante técnicas de ajuste de hiperparámetros."
      ],
      "metadata": {
        "id": "pHDmqvrayYSG"
      }
    },
    {
      "cell_type": "markdown",
      "source": [
        "**Evaluación del modelo**\n",
        "\n",
        " Una vez finalizado el entrenamiento, se evaluará el modelo utilizando el conjunto de prueba. Se calcularán métricas de evaluación, como precisión, recuerdo y puntuación F1, para medir el rendimiento del modelo en la clasificación de sentimientos."
      ],
      "metadata": {
        "id": "URk-2lr6yYbZ"
      }
    },
    {
      "cell_type": "markdown",
      "source": [
        "**Uso del modelo en nuevos datos** \n",
        "\n",
        "Una vez que el modelo esté entrenado y evaluado, se podrá utilizar para predecir los sentimientos en nuevos textos no etiquetados. Estos textos podrían ser comentarios de usuarios en redes sociales, reseñas de productos o cualquier otro tipo de texto en el que se desee realizar análisis de sentimientos."
      ],
      "metadata": {
        "id": "vuFeP1i2yYhG"
      }
    }
  ]
}