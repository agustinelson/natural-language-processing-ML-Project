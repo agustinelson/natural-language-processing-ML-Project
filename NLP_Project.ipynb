{
  "nbformat": 4,
  "nbformat_minor": 0,
  "metadata": {
    "colab": {
      "provenance": [],
      "authorship_tag": "ABX9TyPHpolAmvhNRCtTO80gn2O3",
      "include_colab_link": true
    },
    "kernelspec": {
      "name": "python3",
      "display_name": "Python 3"
    },
    "language_info": {
      "name": "python"
    }
  },
  "cells": [
    {
      "cell_type": "markdown",
      "metadata": {
        "id": "view-in-github",
        "colab_type": "text"
      },
      "source": [
        "<a href=\"https://colab.research.google.com/github/agustinelson/natural-language-processing-ML-Project/blob/main/NLP_Project.ipynb\" target=\"_parent\"><img src=\"https://colab.research.google.com/assets/colab-badge.svg\" alt=\"Open In Colab\"/></a>"
      ]
    },
    {
      "cell_type": "markdown",
      "source": [
        "# ANÁLISIS DE SENTIMIENTOS"
      ],
      "metadata": {
        "id": "KaQa0I73uA6y"
      }
    },
    {
      "cell_type": "markdown",
      "source": [
        "## Resumen"
      ],
      "metadata": {
        "id": "Osdfk3WCuTOm"
      }
    },
    {
      "cell_type": "markdown",
      "source": [
        "El objetivo de este proyecto es proponer y evaluar un modelo de análisis de sentimientos basado en redes neuronales recurrentes (RNN) que implementa la arquitectura ResNET utilizando la biblioteca TensorFlow. La combinación de estas técnicas tiene como objetivo mejorar el rendimiento del modelo en la clasificación de sentimientos en comparación con enfoques tradicionales.\n",
        "\n",
        "**Nota**\n",
        "\n",
        "Descargar el dataset de aquí:\n"
      ],
      "metadata": {
        "id": "6kmSNN-muV22"
      }
    },
    {
      "cell_type": "markdown",
      "source": [
        "**Recopilación de datos**\n",
        "\n",
        "Se recopilará un conjunto de datos etiquetados que contenga ejemplos de texto con sus respectivos sentimientos asociados."
      ],
      "metadata": {
        "id": "dbRNROya0h_A"
      }
    },
    {
      "cell_type": "code",
      "source": [
        "import numpy as np\n",
        "import pandas as pd"
      ],
      "metadata": {
        "id": "ADpVgBft1vf3"
      },
      "execution_count": null,
      "outputs": []
    },
    {
      "cell_type": "code",
      "source": [
        "dataTrain = pd.read_csv(\"data/train\")\n",
        "dataTrain"
      ],
      "metadata": {
        "id": "C2paNHyv_NQV"
      },
      "execution_count": null,
      "outputs": []
    },
    {
      "cell_type": "markdown",
      "source": [
        "**Preprocesamiento de datos**\n",
        "\n",
        "Se recopilará un conjunto de datos etiquetados que contenga ejemplos de texto con sus respectivos sentimientos asociados (positivo, negativo o neutro). Luego, se realizará el preprocesamiento de datos, que incluirá la eliminación de signos de puntuación, la tokenización, la eliminación de palabras irrelevantes y la normalización del texto."
      ],
      "metadata": {
        "id": "j_tluhu0vR_4"
      }
    },
    {
      "cell_type": "markdown",
      "source": [
        "**Representación de características**\n",
        "\n",
        "Los datos preprocesados se convertirán en representaciones numéricas adecuadas para su entrada en el modelo de RNN. Se puede utilizar la técnica de \"Bag of Words\" (BoW) o TF-IDF para convertir los textos en vectores numéricos."
      ],
      "metadata": {
        "id": "Tc3ZBmdlyVum"
      }
    },
    {
      "cell_type": "markdown",
      "source": [
        "\n",
        "**Construcción del modelo de RNN**\n",
        "\n",
        "Se implementará una arquitectura de redes neuronales recurrentes utilizando la biblioteca TensorFlow. Esto puede incluir capas de embedding para convertir las representaciones numéricas de las palabras en vectores densos, seguidas de capas LSTM (Long Short-Term Memory) para capturar la información de contexto a largo plazo. La arquitectura específica de la RNN, incluyendo el número de capas, el tamaño de los vectores de embedding y las unidades LSTM, se determinará experimentalmente o mediante técnicas de ajuste de hiperparámetros."
      ],
      "metadata": {
        "id": "pHDmqvrayYSG"
      }
    },
    {
      "cell_type": "markdown",
      "source": [
        "**Evaluación del modelo**\n",
        "\n",
        " Una vez finalizado el entrenamiento, se evaluará el modelo utilizando el conjunto de prueba. Se calcularán métricas de evaluación, como precisión, recuerdo y puntuación F1, para medir el rendimiento del modelo en la clasificación de sentimientos."
      ],
      "metadata": {
        "id": "URk-2lr6yYbZ"
      }
    },
    {
      "cell_type": "markdown",
      "source": [
        "**Uso del modelo en nuevos datos** \n",
        "\n",
        "Una vez que el modelo esté entrenado y evaluado, se podrá utilizar para predecir los sentimientos en nuevos textos no etiquetados. Estos textos podrían ser comentarios de usuarios en redes sociales, reseñas de productos o cualquier otro tipo de texto en el que se desee realizar análisis de sentimientos."
      ],
      "metadata": {
        "id": "vuFeP1i2yYhG"
      }
    }
  ]
}